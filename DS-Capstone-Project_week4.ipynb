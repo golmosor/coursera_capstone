{
 "cells": [
  {
   "cell_type": "markdown",
   "metadata": {},
   "source": [
    "# Capstone Project"
   ]
  },
  {
   "cell_type": "markdown",
   "metadata": {},
   "source": [
    "## Table of contents\n",
    "* [Introduction: Business Problem](#introduction)\n",
    "* [Data](#data)\n",
    "* [Methodology](#methodology)\n",
    "* [Analysis](#analysis)\n",
    "* [Results and Discussion](#results)\n",
    "* [Conclusion](#conclusion)"
   ]
  },
  {
   "cell_type": "markdown",
   "metadata": {},
   "source": [
    "## Introduction: Business Problem <a name=\"introduction\"></a>"
   ]
  },
  {
   "cell_type": "markdown",
   "metadata": {},
   "source": [
    "The capital cities of the world are very diverse, but also, share some common places. Sometimes it can be quite difficult to compare big cities using demographic or GPP data, because these numbers don't give you enough insights about the business environment.\n",
    "\n",
    "This project is intended for managers of big multinational businesses who want to locate a new branch in another country that has a similiar set of venues. Is Washington more like Ottawa, Paris or Santiago de Chile?\n",
    "\n",
    "To do that, you need to compare the capital cities and determine how similar or dissimilar they are, using data."
   ]
  },
  {
   "cell_type": "markdown",
   "metadata": {},
   "source": [
    "## Data  <a name=\"data\"></a>"
   ]
  },
  {
   "cell_type": "markdown",
   "metadata": {},
   "source": [
    "To determine the similarity of dissimilarity of the cities we are going to compare the venues present on each city and their categories, using the FourSquare API.\n",
    "\n",
    "To get the capitals of the world we are going to use a table from Wikipedia. [List of national capitals](https://en.wikipedia.org/wiki/List_of_national_capitals_by_population)\n",
    "\n",
    "For every city, we will get their location using the geocoder from the geopy library.\n",
    "\n",
    "Using this locations, we are going to get their venues and categories from the API, and store them into a pandas DataFrame. To do that, we will use the explore query.\n",
    "\n",
    "> `https://api.foursquare.com/v2/venues/`**explore**`?client_id=`**CLIENT_ID**`&client_secret=`**CLIENT_SECRET**`&ll=`**LATITUDE**`,`**LONGITUDE**`&v=`**VERSION**`&limit=`**LIMIT**\n",
    "\n",
    "We need to make a table with the capital cities and the number of categories, like the example.\n",
    "\n",
    "| Capital    | Cinema | Restaurant | Hotel | Zoo |\n",
    "|------------|--------|------------|-------|-----|\n",
    "| Washington | 5      | 13         | 8     | 2   |\n",
    "| Santiago   | 37     | 5          | 9     | 7   |\n",
    "| Paris      | 27     | 8          | 12    | 4   |\n",
    "\n",
    "Using this data we then are going to make clusters using k-means algorithm. Then we can visualize and analyze the resulting clusters using Folium and the capital's locations."
   ]
  },
  {
   "cell_type": "markdown",
   "metadata": {},
   "source": [
    "## Methodology  <a name=\"methodology\"></a>"
   ]
  },
  {
   "cell_type": "markdown",
   "metadata": {},
   "source": [
    "## Analysis  <a name=\"analysis\"></a>"
   ]
  },
  {
   "cell_type": "markdown",
   "metadata": {},
   "source": [
    "## Results and Discussion  <a name=\"results\"></a>"
   ]
  },
  {
   "cell_type": "markdown",
   "metadata": {},
   "source": [
    "## Conclusion  <a name=\"conclusion\"></a>"
   ]
  }
 ],
 "metadata": {
  "kernelspec": {
   "display_name": "Python 3",
   "language": "python",
   "name": "python3"
  },
  "language_info": {
   "codemirror_mode": {
    "name": "ipython",
    "version": 3
   },
   "file_extension": ".py",
   "mimetype": "text/x-python",
   "name": "python",
   "nbconvert_exporter": "python",
   "pygments_lexer": "ipython3",
   "version": "3.7.4"
  }
 },
 "nbformat": 4,
 "nbformat_minor": 2
}
